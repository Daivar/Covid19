{
  "nbformat": 4,
  "nbformat_minor": 0,
  "metadata": {
    "colab": {
      "name": "Covid19.ipynb",
      "provenance": [],
      "authorship_tag": "ABX9TyN8yqFuD0C4NOf3rqhKfQND",
      "include_colab_link": true
    },
    "kernelspec": {
      "name": "python3",
      "display_name": "Python 3"
    },
    "language_info": {
      "name": "python"
    },
    "accelerator": "GPU"
  },
  "cells": [
    {
      "cell_type": "markdown",
      "metadata": {
        "id": "view-in-github",
        "colab_type": "text"
      },
      "source": [
        "<a href=\"https://colab.research.google.com/github/Daivar/Covid19/blob/main/Covid19.ipynb\" target=\"_parent\"><img src=\"https://colab.research.google.com/assets/colab-badge.svg\" alt=\"Open In Colab\"/></a>"
      ]
    },
    {
      "cell_type": "code",
      "source": [
        "!gdown https://drive.google.com/uc?id=1coM7x3378f-Ou2l6Pg2wldaOI7Dntu1a\n",
        "!unzip Covid_Data_GradientCrescent.zip"
      ],
      "metadata": {
        "colab": {
          "base_uri": "https://localhost:8080/"
        },
        "id": "ScIIk7mA1LBf",
        "outputId": "d804253b-68e0-4cb7-d0a2-43c975b55df4"
      },
      "execution_count": 5,
      "outputs": [
        {
          "output_type": "stream",
          "name": "stdout",
          "text": [
            "Downloading...\n",
            "From: https://drive.google.com/uc?id=1coM7x3378f-Ou2l6Pg2wldaOI7Dntu1a\n",
            "To: /content/Covid_Data_GradientCrescent.zip\n",
            "100% 154M/154M [00:02<00:00, 72.8MB/s]\n",
            "Archive:  Covid_Data_GradientCrescent.zip\n",
            "   creating: all/\n",
            "   creating: all/test/\n",
            "   creating: all/test/covid/\n",
            "  inflating: all/test/covid/nejmoa2001191_f3-PA.jpeg  \n",
            "  inflating: all/test/covid/nejmoa2001191_f4.jpeg  \n",
            "  inflating: all/test/covid/nejmoa2001191_f5-PA.jpeg  \n",
            "  inflating: all/test/covid/radiol.2020200490.fig3.jpeg  \n",
            "  inflating: all/test/covid/ryct.2020200028.fig1a.jpeg  \n",
            "  inflating: all/test/covid/ryct.2020200034.fig2.jpeg  \n",
            "  inflating: all/test/covid/ryct.2020200034.fig5-day0.jpeg  \n",
            "  inflating: all/test/covid/ryct.2020200034.fig5-day4.jpeg  \n",
            "  inflating: all/test/covid/ryct.2020200034.fig5-day7.jpeg  \n",
            "   creating: all/test/normal/\n",
            "  inflating: all/test/normal/NORMAL2-IM-1385-0001.jpeg  \n",
            "  inflating: all/test/normal/NORMAL2-IM-1396-0001.jpeg  \n",
            "  inflating: all/test/normal/NORMAL2-IM-1400-0001.jpeg  \n",
            "  inflating: all/test/normal/NORMAL2-IM-1401-0001.jpeg  \n",
            "  inflating: all/test/normal/NORMAL2-IM-1406-0001.jpeg  \n",
            "  inflating: all/test/normal/NORMAL2-IM-1412-0001.jpeg  \n",
            "  inflating: all/test/normal/NORMAL2-IM-1419-0001.jpeg  \n",
            "  inflating: all/test/normal/NORMAL2-IM-1422-0001.jpeg  \n",
            "  inflating: all/test/normal/NORMAL2-IM-1423-0001.jpeg  \n",
            "   creating: all/test/pneumonia_bac/\n",
            "  inflating: all/test/pneumonia_bac/person1753_bacteria_4594.jpeg  \n",
            "  inflating: all/test/pneumonia_bac/person1940_bacteria_4859.jpeg  \n",
            "  inflating: all/test/pneumonia_bac/person1940_bacteria_4861.jpeg  \n",
            "  inflating: all/test/pneumonia_bac/person1940_bacteria_4862.jpeg  \n",
            "  inflating: all/test/pneumonia_bac/person1941_bacteria_4863.jpeg  \n",
            "  inflating: all/test/pneumonia_bac/person1942_bacteria_4865.jpeg  \n",
            "  inflating: all/test/pneumonia_bac/person1943_bacteria_4868.jpeg  \n",
            "  inflating: all/test/pneumonia_bac/person1944_bacteria_4869.jpeg  \n",
            "  inflating: all/test/pneumonia_bac/person1945_bacteria_4872.jpeg  \n",
            "   creating: all/test/pneumonia_vir/\n",
            "  inflating: all/test/pneumonia_vir/desktop.ini  \n",
            "  inflating: all/test/pneumonia_vir/person957_virus_1629.jpeg  \n",
            "  inflating: all/test/pneumonia_vir/person958_virus_1630.jpeg  \n",
            "  inflating: all/test/pneumonia_vir/person960_virus_1633.jpeg  \n",
            "  inflating: all/test/pneumonia_vir/person961_virus_1634.jpeg  \n",
            "  inflating: all/test/pneumonia_vir/person962_virus_1635.jpeg  \n",
            "  inflating: all/test/pneumonia_vir/person963_virus_1636.jpeg  \n",
            "  inflating: all/test/pneumonia_vir/person964_virus_1637.jpeg  \n",
            "  inflating: all/test/pneumonia_vir/person965_virus_1638.jpeg  \n",
            "  inflating: all/test/pneumonia_vir/person966_virus_1639.jpeg  \n",
            "   creating: all/train/\n",
            "   creating: all/train/covid/\n",
            "  inflating: all/train/covid/01E392EE-69F9-4E33-BFCE-E5C968654078.jpeg  \n",
            "  inflating: all/train/covid/1-s2.0-S0140673620303706-fx1_lrg.jpg  \n",
            "  inflating: all/train/covid/1-s2.0-S0929664620300449-gr2_lrg-a.jpg  \n",
            "  inflating: all/train/covid/1-s2.0-S0929664620300449-gr2_lrg-b.jpg  \n",
            "  inflating: all/train/covid/1-s2.0-S0929664620300449-gr2_lrg-c.jpg  \n",
            "  inflating: all/train/covid/1-s2.0-S0929664620300449-gr2_lrg-d.jpg  \n",
            "  inflating: all/train/covid/1-s2.0-S1684118220300608-main.pdf-001.jpg  \n",
            "  inflating: all/train/covid/1-s2.0-S1684118220300608-main.pdf-002.jpg  \n",
            "  inflating: all/train/covid/1-s2.0-S1684118220300682-main.pdf-002-a1.png  \n",
            "  inflating: all/train/covid/1-s2.0-S1684118220300682-main.pdf-002-a2.png  \n",
            "  inflating: all/train/covid/1-s2.0-S1684118220300682-main.pdf-003-b1.png  \n",
            "  inflating: all/train/covid/1-s2.0-S1684118220300682-main.pdf-003-b2.png  \n",
            "  inflating: all/train/covid/1312A392-67A3-4EBF-9319-810CF6DA5EF6.jpeg  \n",
            "  inflating: all/train/covid/1B734A89-A1BF-49A8-A1D3-66FAFA4FAC5D.jpeg  \n",
            "  inflating: all/train/covid/23E99E2E-447C-46E5-8EB2-D35D12473C39.png  \n",
            "  inflating: all/train/covid/2C26F453-AF3B-4517-BB9E-802CF2179543.jpeg  \n",
            "  inflating: all/train/covid/31BA3780-2323-493F-8AED-62081B9C383B.jpeg  \n",
            "  inflating: all/train/covid/41591_2020_819_Fig1_HTML.webp-day10.png  \n",
            "  inflating: all/train/covid/41591_2020_819_Fig1_HTML.webp-day5.png  \n",
            "  inflating: all/train/covid/6CB4EFC6-68FA-4CD5-940C-BEFA8DAFE9A7.jpeg  \n",
            "  inflating: all/train/covid/7AF6C1AF-D249-4BD2-8C26-449304105D03.jpeg  \n",
            "  inflating: all/train/covid/7C69C012-7479-493F-8722-ABC29C60A2DD.jpeg  \n",
            "  inflating: all/train/covid/80446565-E090-4187-A031-9D3CEAA586C8.jpeg  \n",
            "  inflating: all/train/covid/85E52EB3-56E9-4D67-82DA-DEA247C82886.jpeg  \n",
            "  inflating: all/train/covid/8FDE8DBA-CFBD-4B4C-B1A4-6F36A93B7E87.jpeg  \n",
            "  inflating: all/train/covid/93FE0BB1-022D-4F24-9727-987A07975FFB.jpeg  \n",
            "  inflating: all/train/covid/9C34AF49-E589-44D5-92D3-168B3B04E4A6.jpeg  \n",
            "  inflating: all/train/covid/all14238-fig-0001-m-b.jpg  \n",
            "  inflating: all/train/covid/all14238-fig-0001-m-c.jpg  \n",
            "  inflating: all/train/covid/auntminnie-a-2020_01_28_23_51_6665_2020_01_28_Vietnam_coronavirus.jpeg  \n",
            "  inflating: all/train/covid/auntminnie-b-2020_01_28_23_51_6665_2020_01_28_Vietnam_coronavirus.jpeg  \n",
            "  inflating: all/train/covid/auntminnie-c-2020_01_28_23_51_6665_2020_01_28_Vietnam_coronavirus.jpeg  \n",
            "  inflating: all/train/covid/auntminnie-d-2020_01_28_23_51_6665_2020_01_28_Vietnam_coronavirus.jpeg  \n",
            "  inflating: all/train/covid/CD50BA96-6982-4C80-AE7B-5F67ACDBFA56.jpeg  \n",
            "  inflating: all/train/covid/ciaa199.pdf-001-a.png  \n",
            "  inflating: all/train/covid/ciaa199.pdf-001-b.png  \n",
            "  inflating: all/train/covid/ciaa199.pdf-001-c.png  \n",
            "  inflating: all/train/covid/covid-19-pneumonia-12.jpg  \n",
            "  inflating: all/train/covid/covid-19-pneumonia-14-PA.png  \n",
            "  inflating: all/train/covid/covid-19-pneumonia-15-PA.jpg  \n",
            "  inflating: all/train/covid/covid-19-pneumonia-19.jpg  \n",
            "  inflating: all/train/covid/covid-19-pneumonia-2.jpg  \n",
            "  inflating: all/train/covid/covid-19-pneumonia-7-PA.jpg  \n",
            "  inflating: all/train/covid/E63574A7-4188-4C8D-8D17-9D67A18A1AFA.jpeg  \n",
            "  inflating: all/train/covid/F2DE909F-E19C-4900-92F5-8F435B031AC6.jpeg  \n",
            "  inflating: all/train/covid/F4341CE7-73C9-45C6-99C8-8567A5484B63.jpeg  \n",
            "  inflating: all/train/covid/F63AB6CE-1968-4154-A70F-913AF154F53D.jpeg  \n",
            "  inflating: all/train/covid/FE9F9A5D-2830-46F9-851B-1FF4534959BE.jpeg  \n",
            "  inflating: all/train/covid/gr1_lrg-a.jpg  \n",
            "  inflating: all/train/covid/gr1_lrg-b.jpg  \n",
            "  inflating: all/train/covid/kjr-21-e24-g001-l-a.jpg  \n",
            "  inflating: all/train/covid/kjr-21-e24-g002-l-a.jpg  \n",
            "  inflating: all/train/covid/kjr-21-e24-g003-l-a.jpg  \n",
            "  inflating: all/train/covid/kjr-21-e25-g001-l-a.jpg  \n",
            "  inflating: all/train/covid/lancet-case2a.jpg  \n",
            "  inflating: all/train/covid/lancet-case2b.jpg  \n",
            "  inflating: all/train/covid/nCoV-radiol.2020200269.fig1-day7.jpeg  \n",
            "  inflating: all/train/covid/nejmc2001573_f1a.jpeg  \n",
            "  inflating: all/train/covid/nejmc2001573_f1b.jpeg  \n",
            "  inflating: all/train/covid/nejmoa2001191_f1-PA.jpeg  \n",
            "   creating: all/train/normal/\n",
            "  inflating: all/train/normal/NORMAL2-IM-1281-0001.jpeg  \n",
            "  inflating: all/train/normal/NORMAL2-IM-1282-0001.jpeg  \n",
            "  inflating: all/train/normal/NORMAL2-IM-1285-0001.jpeg  \n",
            "  inflating: all/train/normal/NORMAL2-IM-1286-0001.jpeg  \n",
            "  inflating: all/train/normal/NORMAL2-IM-1287-0001.jpeg  \n",
            "  inflating: all/train/normal/NORMAL2-IM-1288-0001.jpeg  \n",
            "  inflating: all/train/normal/NORMAL2-IM-1289-0001.jpeg  \n",
            "  inflating: all/train/normal/NORMAL2-IM-1290-0001.jpeg  \n",
            "  inflating: all/train/normal/NORMAL2-IM-1291-0001.jpeg  \n",
            "  inflating: all/train/normal/NORMAL2-IM-1292-0001.jpeg  \n",
            "  inflating: all/train/normal/NORMAL2-IM-1293-0001.jpeg  \n",
            "  inflating: all/train/normal/NORMAL2-IM-1294-0001-0001.jpeg  \n",
            "  inflating: all/train/normal/NORMAL2-IM-1294-0001-0002.jpeg  \n",
            "  inflating: all/train/normal/NORMAL2-IM-1294-0001.jpeg  \n",
            "  inflating: all/train/normal/NORMAL2-IM-1295-0001.jpeg  \n",
            "  inflating: all/train/normal/NORMAL2-IM-1296-0001.jpeg  \n",
            "  inflating: all/train/normal/NORMAL2-IM-1300-0001.jpeg  \n",
            "  inflating: all/train/normal/NORMAL2-IM-1301-0001.jpeg  \n",
            "  inflating: all/train/normal/NORMAL2-IM-1302-0001.jpeg  \n",
            "  inflating: all/train/normal/NORMAL2-IM-1303-0001.jpeg  \n",
            "  inflating: all/train/normal/NORMAL2-IM-1304-0001.jpeg  \n",
            "  inflating: all/train/normal/NORMAL2-IM-1305-0001.jpeg  \n",
            "  inflating: all/train/normal/NORMAL2-IM-1306-0001.jpeg  \n",
            "  inflating: all/train/normal/NORMAL2-IM-1307-0001.jpeg  \n",
            "  inflating: all/train/normal/NORMAL2-IM-1308-0001.jpeg  \n",
            "  inflating: all/train/normal/NORMAL2-IM-1310-0001.jpeg  \n",
            "  inflating: all/train/normal/NORMAL2-IM-1311-0001.jpeg  \n",
            "  inflating: all/train/normal/NORMAL2-IM-1314-0001.jpeg  \n",
            "  inflating: all/train/normal/NORMAL2-IM-1315-0001.jpeg  \n",
            "  inflating: all/train/normal/NORMAL2-IM-1316-0001.jpeg  \n",
            "  inflating: all/train/normal/NORMAL2-IM-1317-0001.jpeg  \n",
            "  inflating: all/train/normal/NORMAL2-IM-1318-0001.jpeg  \n",
            "  inflating: all/train/normal/NORMAL2-IM-1319-0001.jpeg  \n",
            "  inflating: all/train/normal/NORMAL2-IM-1320-0001.jpeg  \n",
            "  inflating: all/train/normal/NORMAL2-IM-1321-0001.jpeg  \n",
            "  inflating: all/train/normal/NORMAL2-IM-1322-0001.jpeg  \n",
            "  inflating: all/train/normal/NORMAL2-IM-1323-0001.jpeg  \n",
            "  inflating: all/train/normal/NORMAL2-IM-1326-0001.jpeg  \n",
            "  inflating: all/train/normal/NORMAL2-IM-1327-0001.jpeg  \n",
            "  inflating: all/train/normal/NORMAL2-IM-1328-0001.jpeg  \n",
            "  inflating: all/train/normal/NORMAL2-IM-1329-0001.jpeg  \n",
            "  inflating: all/train/normal/NORMAL2-IM-1330-0001.jpeg  \n",
            "  inflating: all/train/normal/NORMAL2-IM-1332-0001.jpeg  \n",
            "  inflating: all/train/normal/NORMAL2-IM-1333-0001.jpeg  \n",
            "  inflating: all/train/normal/NORMAL2-IM-1334-0001.jpeg  \n",
            "  inflating: all/train/normal/NORMAL2-IM-1335-0001.jpeg  \n",
            "  inflating: all/train/normal/NORMAL2-IM-1336-0001.jpeg  \n",
            "  inflating: all/train/normal/NORMAL2-IM-1337-0001.jpeg  \n",
            "  inflating: all/train/normal/NORMAL2-IM-1338-0001.jpeg  \n",
            "  inflating: all/train/normal/NORMAL2-IM-1341-0001.jpeg  \n",
            "  inflating: all/train/normal/NORMAL2-IM-1342-0001.jpeg  \n",
            "  inflating: all/train/normal/NORMAL2-IM-1343-0001.jpeg  \n",
            "  inflating: all/train/normal/NORMAL2-IM-1344-0001.jpeg  \n",
            "  inflating: all/train/normal/NORMAL2-IM-1345-0001-0001.jpeg  \n",
            "  inflating: all/train/normal/NORMAL2-IM-1345-0001-0002.jpeg  \n",
            "  inflating: all/train/normal/NORMAL2-IM-1345-0001.jpeg  \n",
            "  inflating: all/train/normal/NORMAL2-IM-1346-0001.jpeg  \n",
            "  inflating: all/train/normal/NORMAL2-IM-1347-0001.jpeg  \n",
            "  inflating: all/train/normal/NORMAL2-IM-1348-0001.jpeg  \n",
            "  inflating: all/train/normal/NORMAL2-IM-1349-0001.jpeg  \n",
            "  inflating: all/train/normal/NORMAL2-IM-1350-0001.jpeg  \n",
            "  inflating: all/train/normal/NORMAL2-IM-1351-0001.jpeg  \n",
            "  inflating: all/train/normal/NORMAL2-IM-1356-0001.jpeg  \n",
            "  inflating: all/train/normal/NORMAL2-IM-1357-0001.jpeg  \n",
            "  inflating: all/train/normal/NORMAL2-IM-1360-0001.jpeg  \n",
            "  inflating: all/train/normal/NORMAL2-IM-1362-0001.jpeg  \n",
            "  inflating: all/train/normal/NORMAL2-IM-1365-0001.jpeg  \n",
            "  inflating: all/train/normal/NORMAL2-IM-1371-0001.jpeg  \n",
            "  inflating: all/train/normal/NORMAL2-IM-1376-0001.jpeg  \n",
            "  inflating: all/train/normal/NORMAL2-IM-1379-0001.jpeg  \n",
            "   creating: all/train/pneumonia_bac/\n",
            "  inflating: all/train/pneumonia_bac/person1843_bacteria_4710.jpeg  \n",
            "  inflating: all/train/pneumonia_bac/person1847_bacteria_4716.jpeg  \n",
            "  inflating: all/train/pneumonia_bac/person1848_bacteria_4719.jpeg  \n",
            "  inflating: all/train/pneumonia_bac/person1850_bacteria_4721.jpeg  \n",
            "  inflating: all/train/pneumonia_bac/person1851_bacteria_4722.jpeg  \n",
            "  inflating: all/train/pneumonia_bac/person1852_bacteria_4724.jpeg  \n",
            "  inflating: all/train/pneumonia_bac/person1855_bacteria_4727.jpeg  \n",
            "  inflating: all/train/pneumonia_bac/person1857_bacteria_4729.jpeg  \n",
            "  inflating: all/train/pneumonia_bac/person1858_bacteria_4730.jpeg  \n",
            "  inflating: all/train/pneumonia_bac/person1859_bacteria_4731.jpeg  \n",
            "  inflating: all/train/pneumonia_bac/person1860_bacteria_4732.jpeg  \n",
            "  inflating: all/train/pneumonia_bac/person1863_bacteria_4735.jpeg  \n",
            "  inflating: all/train/pneumonia_bac/person1864_bacteria_4736.jpeg  \n",
            "  inflating: all/train/pneumonia_bac/person1865_bacteria_4737.jpeg  \n",
            "  inflating: all/train/pneumonia_bac/person1865_bacteria_4739.jpeg  \n",
            "  inflating: all/train/pneumonia_bac/person1866_bacteria_4740.jpeg  \n",
            "  inflating: all/train/pneumonia_bac/person1867_bacteria_4741.jpeg  \n",
            "  inflating: all/train/pneumonia_bac/person1868_bacteria_4743.jpeg  \n",
            "  inflating: all/train/pneumonia_bac/person1869_bacteria_4745.jpeg  \n",
            "  inflating: all/train/pneumonia_bac/person1872_bacteria_4750.jpeg  \n",
            "  inflating: all/train/pneumonia_bac/person1872_bacteria_4751.jpeg  \n",
            "  inflating: all/train/pneumonia_bac/person1875_bacteria_4756.jpeg  \n",
            "  inflating: all/train/pneumonia_bac/person1876_bacteria_4760.jpeg  \n",
            "  inflating: all/train/pneumonia_bac/person1877_bacteria_4761.jpeg  \n",
            "  inflating: all/train/pneumonia_bac/person1879_bacteria_4764.jpeg  \n",
            "  inflating: all/train/pneumonia_bac/person1880_bacteria_4765.jpeg  \n",
            "  inflating: all/train/pneumonia_bac/person1881_bacteria_4767.jpeg  \n",
            "  inflating: all/train/pneumonia_bac/person1883_bacteria_4769.jpeg  \n",
            "  inflating: all/train/pneumonia_bac/person1884_bacteria_4771.jpeg  \n",
            "  inflating: all/train/pneumonia_bac/person1885_bacteria_4772.jpeg  \n",
            "  inflating: all/train/pneumonia_bac/person1886_bacteria_4773.jpeg  \n",
            "  inflating: all/train/pneumonia_bac/person1888_bacteria_4775.jpeg  \n",
            "  inflating: all/train/pneumonia_bac/person1893_bacteria_4781.jpeg  \n",
            "  inflating: all/train/pneumonia_bac/person1896_bacteria_4788.jpeg  \n",
            "  inflating: all/train/pneumonia_bac/person1897_bacteria_4789.jpeg  \n",
            "  inflating: all/train/pneumonia_bac/person1901_bacteria_4795.jpeg  \n",
            "  inflating: all/train/pneumonia_bac/person1903_bacteria_4797.jpeg  \n",
            "  inflating: all/train/pneumonia_bac/person1904_bacteria_4798.jpeg  \n",
            "  inflating: all/train/pneumonia_bac/person1905_bacteria_4801.jpeg  \n",
            "  inflating: all/train/pneumonia_bac/person1906_bacteria_4803.jpeg  \n",
            "  inflating: all/train/pneumonia_bac/person1907_bacteria_4806.jpeg  \n",
            "  inflating: all/train/pneumonia_bac/person1908_bacteria_4811.jpeg  \n",
            "  inflating: all/train/pneumonia_bac/person1910_bacteria_4814.jpeg  \n",
            "  inflating: all/train/pneumonia_bac/person1911_bacteria_4815.jpeg  \n",
            "  inflating: all/train/pneumonia_bac/person1912_bacteria_4816.jpeg  \n",
            "  inflating: all/train/pneumonia_bac/person1912_bacteria_4817.jpeg  \n",
            "  inflating: all/train/pneumonia_bac/person1916_bacteria_4821.jpeg  \n",
            "  inflating: all/train/pneumonia_bac/person1917_bacteria_4823.jpeg  \n",
            "  inflating: all/train/pneumonia_bac/person1918_bacteria_4825.jpeg  \n",
            "  inflating: all/train/pneumonia_bac/person1921_bacteria_4828.jpeg  \n",
            "  inflating: all/train/pneumonia_bac/person1922_bacteria_4830.jpeg  \n",
            "  inflating: all/train/pneumonia_bac/person1923_bacteria_4831.jpeg  \n",
            "  inflating: all/train/pneumonia_bac/person1924_bacteria_4832.jpeg  \n",
            "  inflating: all/train/pneumonia_bac/person1924_bacteria_4833.jpeg  \n",
            "  inflating: all/train/pneumonia_bac/person1926_bacteria_4835.jpeg  \n",
            "  inflating: all/train/pneumonia_bac/person1927_bacteria_4836.jpeg  \n",
            "  inflating: all/train/pneumonia_bac/person1927_bacteria_4837.jpeg  \n",
            "  inflating: all/train/pneumonia_bac/person1929_bacteria_4839.jpeg  \n",
            "  inflating: all/train/pneumonia_bac/person1930_bacteria_4841.jpeg  \n",
            "  inflating: all/train/pneumonia_bac/person1931_bacteria_4842.jpeg  \n",
            "  inflating: all/train/pneumonia_bac/person1932_bacteria_4843.jpeg  \n",
            "  inflating: all/train/pneumonia_bac/person1933_bacteria_4844.jpeg  \n",
            "  inflating: all/train/pneumonia_bac/person1934_bacteria_4846.jpeg  \n",
            "  inflating: all/train/pneumonia_bac/person1935_bacteria_4847.jpeg  \n",
            "  inflating: all/train/pneumonia_bac/person1935_bacteria_4848.jpeg  \n",
            "  inflating: all/train/pneumonia_bac/person1935_bacteria_4849.jpeg  \n",
            "  inflating: all/train/pneumonia_bac/person1935_bacteria_4850.jpeg  \n",
            "  inflating: all/train/pneumonia_bac/person1936_bacteria_4852.jpeg  \n",
            "  inflating: all/train/pneumonia_bac/person1937_bacteria_4853.jpeg  \n",
            "  inflating: all/train/pneumonia_bac/person1938_bacteria_4854.jpeg  \n",
            "   creating: all/train/pneumonia_vir/\n",
            "  inflating: all/train/pneumonia_vir/desktop.ini  \n",
            "  inflating: all/train/pneumonia_vir/person88_virus_164.jpeg  \n",
            "  inflating: all/train/pneumonia_vir/person88_virus_165.jpeg  \n",
            "  inflating: all/train/pneumonia_vir/person88_virus_166.jpeg  \n",
            "  inflating: all/train/pneumonia_vir/person88_virus_167.jpeg  \n",
            "  inflating: all/train/pneumonia_vir/person890_virus_1540.jpeg  \n",
            "  inflating: all/train/pneumonia_vir/person891_virus_1541.jpeg  \n",
            "  inflating: all/train/pneumonia_vir/person894_virus_1546.jpeg  \n",
            "  inflating: all/train/pneumonia_vir/person895_virus_1547.jpeg  \n",
            "  inflating: all/train/pneumonia_vir/person896_virus_1548.jpeg  \n",
            "  inflating: all/train/pneumonia_vir/person898_virus_1552.jpeg  \n",
            "  inflating: all/train/pneumonia_vir/person899_virus_1553.jpeg  \n",
            "  inflating: all/train/pneumonia_vir/person89_virus_168.jpeg  \n",
            "  inflating: all/train/pneumonia_vir/person900_virus_1554.jpeg  \n",
            "  inflating: all/train/pneumonia_vir/person901_virus_1555.jpeg  \n",
            "  inflating: all/train/pneumonia_vir/person905_virus_1561.jpeg  \n",
            "  inflating: all/train/pneumonia_vir/person906_virus_1562.jpeg  \n",
            "  inflating: all/train/pneumonia_vir/person907_virus_1563.jpeg  \n",
            "  inflating: all/train/pneumonia_vir/person908_virus_1564.jpeg  \n",
            "  inflating: all/train/pneumonia_vir/person909_virus_1565.jpeg  \n",
            "  inflating: all/train/pneumonia_vir/person90_virus_169.jpeg  \n",
            "  inflating: all/train/pneumonia_vir/person90_virus_170.jpeg  \n",
            "  inflating: all/train/pneumonia_vir/person911_virus_1567.jpeg  \n",
            "  inflating: all/train/pneumonia_vir/person913_virus_1570.jpeg  \n",
            "  inflating: all/train/pneumonia_vir/person914_virus_1571.jpeg  \n",
            "  inflating: all/train/pneumonia_vir/person915_virus_1572.jpeg  \n",
            "  inflating: all/train/pneumonia_vir/person918_virus_1575.jpeg  \n",
            "  inflating: all/train/pneumonia_vir/person919_virus_1576.jpeg  \n",
            "  inflating: all/train/pneumonia_vir/person920_virus_1577.jpeg  \n",
            "  inflating: all/train/pneumonia_vir/person921_virus_1578.jpeg  \n",
            "  inflating: all/train/pneumonia_vir/person924_virus_1581.jpeg  \n",
            "  inflating: all/train/pneumonia_vir/person925_virus_1582.jpeg  \n",
            "  inflating: all/train/pneumonia_vir/person926_virus_1583.jpeg  \n",
            "  inflating: all/train/pneumonia_vir/person927_virus_1584.jpeg  \n",
            "  inflating: all/train/pneumonia_vir/person928_virus_1586.jpeg  \n",
            "  inflating: all/train/pneumonia_vir/person929_virus_1588.jpeg  \n",
            "  inflating: all/train/pneumonia_vir/person929_virus_1589.jpeg  \n",
            "  inflating: all/train/pneumonia_vir/person92_virus_174.jpeg  \n",
            "  inflating: all/train/pneumonia_vir/person931_virus_1592.jpeg  \n",
            "  inflating: all/train/pneumonia_vir/person932_virus_1593.jpeg  \n",
            "  inflating: all/train/pneumonia_vir/person933_virus_1594.jpeg  \n",
            "  inflating: all/train/pneumonia_vir/person934_virus_1595.jpeg  \n",
            "  inflating: all/train/pneumonia_vir/person935_virus_1597.jpeg  \n",
            "  inflating: all/train/pneumonia_vir/person936_virus_1598.jpeg  \n",
            "  inflating: all/train/pneumonia_vir/person937_virus_1599.jpeg  \n",
            "  inflating: all/train/pneumonia_vir/person938_virus_1600.jpeg  \n",
            "  inflating: all/train/pneumonia_vir/person93_virus_175.jpeg  \n",
            "  inflating: all/train/pneumonia_vir/person940_virus_1602.jpeg  \n",
            "  inflating: all/train/pneumonia_vir/person940_virus_1604.jpeg  \n",
            "  inflating: all/train/pneumonia_vir/person940_virus_1605.jpeg  \n",
            "  inflating: all/train/pneumonia_vir/person940_virus_1607.jpeg  \n",
            "  inflating: all/train/pneumonia_vir/person940_virus_1609.jpeg  \n",
            "  inflating: all/train/pneumonia_vir/person941_virus_1610.jpeg  \n",
            "  inflating: all/train/pneumonia_vir/person942_virus_1611.jpeg  \n",
            "  inflating: all/train/pneumonia_vir/person945_virus_1616.jpeg  \n",
            "  inflating: all/train/pneumonia_vir/person947_virus_1618.jpeg  \n",
            "  inflating: all/train/pneumonia_vir/person949_virus_1620.jpeg  \n",
            "  inflating: all/train/pneumonia_vir/person94_virus_176.jpeg  \n",
            "  inflating: all/train/pneumonia_vir/person950_virus_1621.jpeg  \n",
            "  inflating: all/train/pneumonia_vir/person951_virus_1622.jpeg  \n",
            "  inflating: all/train/pneumonia_vir/person952_virus_1623.jpeg  \n",
            "  inflating: all/train/pneumonia_vir/person954_virus_1626.jpeg  \n",
            "  inflating: all/train/pneumonia_vir/person955_virus_1627.jpeg  \n",
            "  inflating: all/train/pneumonia_vir/person956_virus_1628.jpeg  \n",
            "  inflating: all/train/pneumonia_vir/person95_virus_177.jpeg  \n",
            "  inflating: all/train/pneumonia_vir/person96_virus_178.jpeg  \n",
            "  inflating: all/train/pneumonia_vir/person96_virus_179.jpeg  \n",
            "  inflating: all/train/pneumonia_vir/person97_virus_180.jpeg  \n",
            "  inflating: all/train/pneumonia_vir/person97_virus_181.jpeg  \n",
            "  inflating: all/train/pneumonia_vir/person98_virus_182.jpeg  \n",
            "  inflating: all/train/pneumonia_vir/person99_virus_183.jpeg  \n",
            "   creating: two/\n",
            "   creating: two/test/\n",
            "   creating: two/test/covid/\n",
            "  inflating: two/test/covid/nejmoa2001191_f3-PA.jpeg  \n",
            "  inflating: two/test/covid/nejmoa2001191_f4.jpeg  \n",
            "  inflating: two/test/covid/nejmoa2001191_f5-PA.jpeg  \n",
            "  inflating: two/test/covid/radiol.2020200490.fig3.jpeg  \n",
            "  inflating: two/test/covid/ryct.2020200028.fig1a.jpeg  \n",
            "  inflating: two/test/covid/ryct.2020200034.fig2.jpeg  \n",
            "  inflating: two/test/covid/ryct.2020200034.fig5-day0.jpeg  \n",
            "  inflating: two/test/covid/ryct.2020200034.fig5-day4.jpeg  \n",
            "  inflating: two/test/covid/ryct.2020200034.fig5-day7.jpeg  \n",
            "   creating: two/test/normal/\n",
            "  inflating: two/test/normal/NORMAL2-IM-1385-0001.jpeg  \n",
            "  inflating: two/test/normal/NORMAL2-IM-1396-0001.jpeg  \n",
            "  inflating: two/test/normal/NORMAL2-IM-1400-0001.jpeg  \n",
            "  inflating: two/test/normal/NORMAL2-IM-1401-0001.jpeg  \n",
            "  inflating: two/test/normal/NORMAL2-IM-1406-0001.jpeg  \n",
            "  inflating: two/test/normal/NORMAL2-IM-1412-0001.jpeg  \n",
            "  inflating: two/test/normal/NORMAL2-IM-1419-0001.jpeg  \n",
            "  inflating: two/test/normal/NORMAL2-IM-1422-0001.jpeg  \n",
            "  inflating: two/test/normal/NORMAL2-IM-1423-0001.jpeg  \n",
            "   creating: two/train/\n",
            "   creating: two/train/covid/\n",
            "  inflating: two/train/covid/01E392EE-69F9-4E33-BFCE-E5C968654078.jpeg  \n",
            "  inflating: two/train/covid/1-s2.0-S0140673620303706-fx1_lrg.jpg  \n",
            "  inflating: two/train/covid/1-s2.0-S0929664620300449-gr2_lrg-a.jpg  \n",
            "  inflating: two/train/covid/1-s2.0-S0929664620300449-gr2_lrg-b.jpg  \n",
            "  inflating: two/train/covid/1-s2.0-S0929664620300449-gr2_lrg-c.jpg  \n",
            "  inflating: two/train/covid/1-s2.0-S0929664620300449-gr2_lrg-d.jpg  \n",
            "  inflating: two/train/covid/1-s2.0-S1684118220300608-main.pdf-001.jpg  \n",
            "  inflating: two/train/covid/1-s2.0-S1684118220300608-main.pdf-002.jpg  \n",
            "  inflating: two/train/covid/1-s2.0-S1684118220300682-main.pdf-002-a1.png  \n",
            "  inflating: two/train/covid/1-s2.0-S1684118220300682-main.pdf-002-a2.png  \n",
            "  inflating: two/train/covid/1-s2.0-S1684118220300682-main.pdf-003-b1.png  \n",
            "  inflating: two/train/covid/1-s2.0-S1684118220300682-main.pdf-003-b2.png  \n",
            "  inflating: two/train/covid/1312A392-67A3-4EBF-9319-810CF6DA5EF6.jpeg  \n",
            "  inflating: two/train/covid/1B734A89-A1BF-49A8-A1D3-66FAFA4FAC5D.jpeg  \n",
            "  inflating: two/train/covid/23E99E2E-447C-46E5-8EB2-D35D12473C39.png  \n",
            "  inflating: two/train/covid/2C26F453-AF3B-4517-BB9E-802CF2179543.jpeg  \n",
            "  inflating: two/train/covid/31BA3780-2323-493F-8AED-62081B9C383B.jpeg  \n",
            "  inflating: two/train/covid/41591_2020_819_Fig1_HTML.webp-day10.png  \n",
            "  inflating: two/train/covid/41591_2020_819_Fig1_HTML.webp-day5.png  \n",
            "  inflating: two/train/covid/6CB4EFC6-68FA-4CD5-940C-BEFA8DAFE9A7.jpeg  \n",
            "  inflating: two/train/covid/7AF6C1AF-D249-4BD2-8C26-449304105D03.jpeg  \n",
            "  inflating: two/train/covid/7C69C012-7479-493F-8722-ABC29C60A2DD.jpeg  \n",
            "  inflating: two/train/covid/80446565-E090-4187-A031-9D3CEAA586C8.jpeg  \n",
            "  inflating: two/train/covid/85E52EB3-56E9-4D67-82DA-DEA247C82886.jpeg  \n",
            "  inflating: two/train/covid/8FDE8DBA-CFBD-4B4C-B1A4-6F36A93B7E87.jpeg  \n",
            "  inflating: two/train/covid/93FE0BB1-022D-4F24-9727-987A07975FFB.jpeg  \n",
            "  inflating: two/train/covid/9C34AF49-E589-44D5-92D3-168B3B04E4A6.jpeg  \n",
            "  inflating: two/train/covid/all14238-fig-0001-m-b.jpg  \n",
            "  inflating: two/train/covid/all14238-fig-0001-m-c.jpg  \n",
            "  inflating: two/train/covid/auntminnie-a-2020_01_28_23_51_6665_2020_01_28_Vietnam_coronavirus.jpeg  \n",
            "  inflating: two/train/covid/auntminnie-b-2020_01_28_23_51_6665_2020_01_28_Vietnam_coronavirus.jpeg  \n",
            "  inflating: two/train/covid/auntminnie-c-2020_01_28_23_51_6665_2020_01_28_Vietnam_coronavirus.jpeg  \n",
            "  inflating: two/train/covid/auntminnie-d-2020_01_28_23_51_6665_2020_01_28_Vietnam_coronavirus.jpeg  \n",
            "  inflating: two/train/covid/CD50BA96-6982-4C80-AE7B-5F67ACDBFA56.jpeg  \n",
            "  inflating: two/train/covid/ciaa199.pdf-001-a.png  \n",
            "  inflating: two/train/covid/ciaa199.pdf-001-b.png  \n",
            "  inflating: two/train/covid/ciaa199.pdf-001-c.png  \n",
            "  inflating: two/train/covid/covid-19-pneumonia-12.jpg  \n",
            "  inflating: two/train/covid/covid-19-pneumonia-14-PA.png  \n",
            "  inflating: two/train/covid/covid-19-pneumonia-15-PA.jpg  \n",
            "  inflating: two/train/covid/covid-19-pneumonia-19.jpg  \n",
            "  inflating: two/train/covid/covid-19-pneumonia-2.jpg  \n",
            "  inflating: two/train/covid/covid-19-pneumonia-7-PA.jpg  \n",
            "  inflating: two/train/covid/E63574A7-4188-4C8D-8D17-9D67A18A1AFA.jpeg  \n",
            "  inflating: two/train/covid/F2DE909F-E19C-4900-92F5-8F435B031AC6.jpeg  \n",
            "  inflating: two/train/covid/F4341CE7-73C9-45C6-99C8-8567A5484B63.jpeg  \n",
            "  inflating: two/train/covid/F63AB6CE-1968-4154-A70F-913AF154F53D.jpeg  \n",
            "  inflating: two/train/covid/FE9F9A5D-2830-46F9-851B-1FF4534959BE.jpeg  \n",
            "  inflating: two/train/covid/gr1_lrg-a.jpg  \n",
            "  inflating: two/train/covid/gr1_lrg-b.jpg  \n",
            "  inflating: two/train/covid/kjr-21-e24-g001-l-a.jpg  \n",
            "  inflating: two/train/covid/kjr-21-e24-g002-l-a.jpg  \n",
            "  inflating: two/train/covid/kjr-21-e24-g003-l-a.jpg  \n",
            "  inflating: two/train/covid/kjr-21-e25-g001-l-a.jpg  \n",
            "  inflating: two/train/covid/lancet-case2a.jpg  \n",
            "  inflating: two/train/covid/lancet-case2b.jpg  \n",
            "  inflating: two/train/covid/nCoV-radiol.2020200269.fig1-day7.jpeg  \n",
            "  inflating: two/train/covid/nejmc2001573_f1a.jpeg  \n",
            "  inflating: two/train/covid/nejmc2001573_f1b.jpeg  \n",
            "  inflating: two/train/covid/nejmoa2001191_f1-PA.jpeg  \n",
            "   creating: two/train/normal/\n",
            "  inflating: two/train/normal/NORMAL2-IM-1281-0001.jpeg  \n",
            "  inflating: two/train/normal/NORMAL2-IM-1282-0001.jpeg  \n",
            "  inflating: two/train/normal/NORMAL2-IM-1285-0001.jpeg  \n",
            "  inflating: two/train/normal/NORMAL2-IM-1286-0001.jpeg  \n",
            "  inflating: two/train/normal/NORMAL2-IM-1287-0001.jpeg  \n",
            "  inflating: two/train/normal/NORMAL2-IM-1288-0001.jpeg  \n",
            "  inflating: two/train/normal/NORMAL2-IM-1289-0001.jpeg  \n",
            "  inflating: two/train/normal/NORMAL2-IM-1290-0001.jpeg  \n",
            "  inflating: two/train/normal/NORMAL2-IM-1291-0001.jpeg  \n",
            "  inflating: two/train/normal/NORMAL2-IM-1292-0001.jpeg  \n",
            "  inflating: two/train/normal/NORMAL2-IM-1293-0001.jpeg  \n",
            "  inflating: two/train/normal/NORMAL2-IM-1294-0001-0001.jpeg  \n",
            "  inflating: two/train/normal/NORMAL2-IM-1294-0001-0002.jpeg  \n",
            "  inflating: two/train/normal/NORMAL2-IM-1294-0001.jpeg  \n",
            "  inflating: two/train/normal/NORMAL2-IM-1295-0001.jpeg  \n",
            "  inflating: two/train/normal/NORMAL2-IM-1296-0001.jpeg  \n",
            "  inflating: two/train/normal/NORMAL2-IM-1300-0001.jpeg  \n",
            "  inflating: two/train/normal/NORMAL2-IM-1301-0001.jpeg  \n",
            "  inflating: two/train/normal/NORMAL2-IM-1302-0001.jpeg  \n",
            "  inflating: two/train/normal/NORMAL2-IM-1303-0001.jpeg  \n",
            "  inflating: two/train/normal/NORMAL2-IM-1304-0001.jpeg  \n",
            "  inflating: two/train/normal/NORMAL2-IM-1305-0001.jpeg  \n",
            "  inflating: two/train/normal/NORMAL2-IM-1306-0001.jpeg  \n",
            "  inflating: two/train/normal/NORMAL2-IM-1307-0001.jpeg  \n",
            "  inflating: two/train/normal/NORMAL2-IM-1308-0001.jpeg  \n",
            "  inflating: two/train/normal/NORMAL2-IM-1310-0001.jpeg  \n",
            "  inflating: two/train/normal/NORMAL2-IM-1311-0001.jpeg  \n",
            "  inflating: two/train/normal/NORMAL2-IM-1314-0001.jpeg  \n",
            "  inflating: two/train/normal/NORMAL2-IM-1315-0001.jpeg  \n",
            "  inflating: two/train/normal/NORMAL2-IM-1316-0001.jpeg  \n",
            "  inflating: two/train/normal/NORMAL2-IM-1317-0001.jpeg  \n",
            "  inflating: two/train/normal/NORMAL2-IM-1318-0001.jpeg  \n",
            "  inflating: two/train/normal/NORMAL2-IM-1319-0001.jpeg  \n",
            "  inflating: two/train/normal/NORMAL2-IM-1320-0001.jpeg  \n",
            "  inflating: two/train/normal/NORMAL2-IM-1321-0001.jpeg  \n",
            "  inflating: two/train/normal/NORMAL2-IM-1322-0001.jpeg  \n",
            "  inflating: two/train/normal/NORMAL2-IM-1323-0001.jpeg  \n",
            "  inflating: two/train/normal/NORMAL2-IM-1326-0001.jpeg  \n",
            "  inflating: two/train/normal/NORMAL2-IM-1327-0001.jpeg  \n",
            "  inflating: two/train/normal/NORMAL2-IM-1328-0001.jpeg  \n",
            "  inflating: two/train/normal/NORMAL2-IM-1329-0001.jpeg  \n",
            "  inflating: two/train/normal/NORMAL2-IM-1330-0001.jpeg  \n",
            "  inflating: two/train/normal/NORMAL2-IM-1332-0001.jpeg  \n",
            "  inflating: two/train/normal/NORMAL2-IM-1333-0001.jpeg  \n",
            "  inflating: two/train/normal/NORMAL2-IM-1334-0001.jpeg  \n",
            "  inflating: two/train/normal/NORMAL2-IM-1335-0001.jpeg  \n",
            "  inflating: two/train/normal/NORMAL2-IM-1336-0001.jpeg  \n",
            "  inflating: two/train/normal/NORMAL2-IM-1337-0001.jpeg  \n",
            "  inflating: two/train/normal/NORMAL2-IM-1338-0001.jpeg  \n",
            "  inflating: two/train/normal/NORMAL2-IM-1341-0001.jpeg  \n",
            "  inflating: two/train/normal/NORMAL2-IM-1342-0001.jpeg  \n",
            "  inflating: two/train/normal/NORMAL2-IM-1343-0001.jpeg  \n",
            "  inflating: two/train/normal/NORMAL2-IM-1344-0001.jpeg  \n",
            "  inflating: two/train/normal/NORMAL2-IM-1345-0001-0001.jpeg  \n",
            "  inflating: two/train/normal/NORMAL2-IM-1345-0001-0002.jpeg  \n",
            "  inflating: two/train/normal/NORMAL2-IM-1345-0001.jpeg  \n",
            "  inflating: two/train/normal/NORMAL2-IM-1346-0001.jpeg  \n",
            "  inflating: two/train/normal/NORMAL2-IM-1347-0001.jpeg  \n",
            "  inflating: two/train/normal/NORMAL2-IM-1348-0001.jpeg  \n",
            "  inflating: two/train/normal/NORMAL2-IM-1349-0001.jpeg  \n",
            "  inflating: two/train/normal/NORMAL2-IM-1350-0001.jpeg  \n",
            "  inflating: two/train/normal/NORMAL2-IM-1351-0001.jpeg  \n",
            "  inflating: two/train/normal/NORMAL2-IM-1356-0001.jpeg  \n",
            "  inflating: two/train/normal/NORMAL2-IM-1357-0001.jpeg  \n",
            "  inflating: two/train/normal/NORMAL2-IM-1360-0001.jpeg  \n",
            "  inflating: two/train/normal/NORMAL2-IM-1362-0001.jpeg  \n",
            "  inflating: two/train/normal/NORMAL2-IM-1365-0001.jpeg  \n",
            "  inflating: two/train/normal/NORMAL2-IM-1371-0001.jpeg  \n",
            "  inflating: two/train/normal/NORMAL2-IM-1376-0001.jpeg  \n",
            "  inflating: two/train/normal/NORMAL2-IM-1379-0001.jpeg  \n"
          ]
        }
      ]
    },
    {
      "cell_type": "code",
      "source": [
        "from numpy.random import seed\n",
        "seed(8) #1\n",
        "import tensorflow\n",
        "from tensorflow.python.framework.random_seed import set_random_seed\n",
        "tensorflow.random.set_seed(1)\n",
        "set_random_seed(7) #2\n",
        "\n",
        "import numpy as np # linear algebra\n",
        "import pandas as pd # data processing, CSV file I/O (e.g. pd.read_csv)\n",
        "\n",
        "import os\n"
      ],
      "metadata": {
        "id": "yqYG0UK3x82f"
      },
      "execution_count": 6,
      "outputs": []
    },
    {
      "cell_type": "code",
      "source": [
        "print(os.listdir(\"/content/\"))"
      ],
      "metadata": {
        "colab": {
          "base_uri": "https://localhost:8080/"
        },
        "id": "lRsLYFRl3wJQ",
        "outputId": "b50525b8-31ff-4e76-ca89-25754aad83d7"
      },
      "execution_count": 7,
      "outputs": [
        {
          "output_type": "stream",
          "name": "stdout",
          "text": [
            "['.config', 'Covid_Data_GradientCrescent.zip', 'two', 'all', 'sample_data']\n"
          ]
        }
      ]
    },
    {
      "cell_type": "code",
      "source": [
        "!rm Covid_Data_GradientCrescent.zip"
      ],
      "metadata": {
        "id": "_Xt7iQos7Vl0"
      },
      "execution_count": 8,
      "outputs": []
    },
    {
      "cell_type": "code",
      "source": [
        "!rm -rf /content/all/test/pneumonia_vir"
      ],
      "metadata": {
        "id": "idvSFVHI4Kua"
      },
      "execution_count": 9,
      "outputs": []
    },
    {
      "cell_type": "code",
      "source": [
        "!rm -rf /content/all/train/pneumonia_vir"
      ],
      "metadata": {
        "id": "OwqAVDOc7bCk"
      },
      "execution_count": 10,
      "outputs": []
    },
    {
      "cell_type": "code",
      "source": [
        "from os import listdir\n",
        "data_list = listdir('/content/all/train')\n"
      ],
      "metadata": {
        "id": "MgIlqSpc4pLd"
      },
      "execution_count": 11,
      "outputs": []
    },
    {
      "cell_type": "code",
      "source": [
        "data_list"
      ],
      "metadata": {
        "id": "Xvw6lnoVRPTx",
        "colab": {
          "base_uri": "https://localhost:8080/"
        },
        "outputId": "2b3c893c-42b7-492c-fd06-9134aa66858c"
      },
      "execution_count": 12,
      "outputs": [
        {
          "output_type": "execute_result",
          "data": {
            "text/plain": [
              "['normal', 'pneumonia_bac', 'covid']"
            ]
          },
          "metadata": {},
          "execution_count": 12
        }
      ]
    },
    {
      "cell_type": "code",
      "source": [
        "from tensorflow.keras import backend as K\n",
        "from tensorflow.keras.models import Model ,load_model\n",
        "from tensorflow.keras.layers import Flatten, Dense, Dropout\n",
        "from tensorflow.keras.applications.inception_resnet_v2 import InceptionResNetV2, preprocess_input\n",
        "from keras.applications.vgg16 import preprocess_input\n",
        "from keras.applications.vgg16 import decode_predictions\n",
        "from keras.applications.vgg16 import VGG16\n",
        "from tensorflow.keras.optimizers import Adam, RMSprop\n",
        "from tensorflow.keras.preprocessing.image import ImageDataGenerator\n",
        "from tensorflow.keras.callbacks import ModelCheckpoint\n",
        "import numpy as np\n",
        "import tensorflow as tf"
      ],
      "metadata": {
        "id": "DainCv2SzKtg"
      },
      "execution_count": 13,
      "outputs": []
    },
    {
      "cell_type": "code",
      "source": [
        "DATASET_PATH  = '/content/all/train'\n",
        "test_dir =  '/content/all/test'\n",
        "IMAGE_SIZE    = (150, 150)\n",
        "NUM_CLASSES   = len(data_list)\n",
        "BATCH_SIZE    = 10  # try reducing batch size or freeze more layers if your GPU runs out of memory\n",
        "NUM_EPOCHS    = 100\n",
        "LEARNING_RATE =0.0001"
      ],
      "metadata": {
        "id": "F-TMCFllyQ3Y"
      },
      "execution_count": 66,
      "outputs": []
    },
    {
      "cell_type": "code",
      "source": [
        "train_datagen = ImageDataGenerator(rescale=1./255,\n",
        "                                   rotation_range=50,\n",
        "                                   featurewise_center = True,\n",
        "                                   featurewise_std_normalization = True,\n",
        "                                   width_shift_range=0.2,\n",
        "                                   height_shift_range=0.2,\n",
        "                                   shear_range=0.25,\n",
        "                                   zoom_range=0.1,\n",
        "                                   zca_whitening = True,\n",
        "                                   channel_shift_range = 20,\n",
        "                                   horizontal_flip = True ,\n",
        "                                   vertical_flip = True ,\n",
        "                                   validation_split = 0.2,\n",
        "                                   fill_mode='constant')"
      ],
      "metadata": {
        "colab": {
          "base_uri": "https://localhost:8080/"
        },
        "id": "8U419YIgzeGk",
        "outputId": "821e9560-c2e1-42bf-a15c-5e99a25d1a76"
      },
      "execution_count": 67,
      "outputs": [
        {
          "output_type": "stream",
          "name": "stderr",
          "text": [
            "/usr/local/lib/python3.7/dist-packages/keras_preprocessing/image/image_data_generator.py:342: UserWarning: This ImageDataGenerator specifies `zca_whitening` which overrides setting of`featurewise_std_normalization`.\n",
            "  warnings.warn('This ImageDataGenerator specifies '\n"
          ]
        }
      ]
    },
    {
      "cell_type": "code",
      "source": [
        "train_batches = train_datagen.flow_from_directory(DATASET_PATH,\n",
        "                                                  target_size=IMAGE_SIZE,\n",
        "                                                  shuffle=True,\n",
        "                                                  batch_size=BATCH_SIZE,\n",
        "                                                  subset = \"training\",\n",
        "                                                  seed=42,\n",
        "                                                  class_mode=\"categorical\"\n",
        "                                                  )\n"
      ],
      "metadata": {
        "colab": {
          "base_uri": "https://localhost:8080/"
        },
        "id": "Cu_oue-uVWo_",
        "outputId": "b17fee08-0a11-492b-bfe0-573fb5823d29"
      },
      "execution_count": 68,
      "outputs": [
        {
          "output_type": "stream",
          "name": "stdout",
          "text": [
            "Found 160 images belonging to 3 classes.\n"
          ]
        }
      ]
    },
    {
      "cell_type": "code",
      "source": [
        "valid_batches = train_datagen.flow_from_directory(DATASET_PATH,\n",
        "                                                  target_size=IMAGE_SIZE,\n",
        "                                                  shuffle=True,\n",
        "                                                  batch_size=BATCH_SIZE,\n",
        "                                                  subset = \"validation\",\n",
        "                                                  seed=42,\n",
        "                                                  class_mode=\"categorical\"\n",
        "                                                 \n",
        "                                                  )"
      ],
      "metadata": {
        "colab": {
          "base_uri": "https://localhost:8080/"
        },
        "id": "1yETv7EB1VOY",
        "outputId": "e2e26173-ec65-4b05-e7d7-7a68ac98cdbc"
      },
      "execution_count": 69,
      "outputs": [
        {
          "output_type": "stream",
          "name": "stdout",
          "text": [
            "Found 40 images belonging to 3 classes.\n"
          ]
        }
      ]
    },
    {
      "cell_type": "code",
      "source": [
        "from tensorflow import keras\n",
        "from keras import models\n",
        "from keras import layers\n",
        "from keras import applications\n",
        "# from keras.applications import VGG16\n",
        "from keras import optimizers\n",
        "\n",
        "\n",
        "conv_base = VGG16(weights='imagenet',\n",
        "                  include_top=False,\n",
        "                  input_shape=(150, 150, 3))\n",
        "\n",
        "\n",
        "conv_base.trainable = False\n",
        "\n",
        "\n",
        "model = models.Sequential()\n",
        "model.add(conv_base)\n",
        "model.add(layers.Flatten())\n",
        "model.add(layers.Dense(256, activation='relu'))\n",
        "model.add(layers.Dense(3, activation='softmax'))\n",
        "model.compile(loss='categorical_crossentropy', optimizer='adam', \n",
        "              metrics=['acc'])"
      ],
      "metadata": {
        "id": "vHOLFTeG1Xxo"
      },
      "execution_count": 70,
      "outputs": []
    },
    {
      "cell_type": "code",
      "source": [
        "tf.keras.applications.vgg16.VGG16(\n",
        "    include_top=True, weights='imagenet', input_tensor=None,\n",
        "    input_shape=None, pooling=None, classes=1000,\n",
        "    classifier_activation='softmax'\n",
        ")"
      ],
      "metadata": {
        "colab": {
          "base_uri": "https://localhost:8080/"
        },
        "id": "vJfd88gD1abY",
        "outputId": "1c63603c-b330-4fe2-9c66-30f5e31ce9c8"
      },
      "execution_count": 71,
      "outputs": [
        {
          "output_type": "execute_result",
          "data": {
            "text/plain": [
              "<keras.engine.functional.Functional at 0x7f125de5bfd0>"
            ]
          },
          "metadata": {},
          "execution_count": 71
        }
      ]
    },
    {
      "cell_type": "code",
      "source": [
        "print(model.summary())"
      ],
      "metadata": {
        "colab": {
          "base_uri": "https://localhost:8080/"
        },
        "id": "057DGHybOg2n",
        "outputId": "5a237c24-b291-41cc-ec7a-21a973ac795b"
      },
      "execution_count": 72,
      "outputs": [
        {
          "output_type": "stream",
          "name": "stdout",
          "text": [
            "Model: \"sequential_9\"\n",
            "_________________________________________________________________\n",
            " Layer (type)                Output Shape              Param #   \n",
            "=================================================================\n",
            " vgg16 (Functional)          (None, 4, 4, 512)         14714688  \n",
            "                                                                 \n",
            " flatten_9 (Flatten)         (None, 8192)              0         \n",
            "                                                                 \n",
            " dense_18 (Dense)            (None, 256)               2097408   \n",
            "                                                                 \n",
            " dense_19 (Dense)            (None, 3)                 771       \n",
            "                                                                 \n",
            "=================================================================\n",
            "Total params: 16,812,867\n",
            "Trainable params: 2,098,179\n",
            "Non-trainable params: 14,714,688\n",
            "_________________________________________________________________\n",
            "None\n"
          ]
        }
      ]
    },
    {
      "cell_type": "code",
      "source": [
        "!nvidia-smi"
      ],
      "metadata": {
        "colab": {
          "base_uri": "https://localhost:8080/"
        },
        "id": "xfng8RCkEQyb",
        "outputId": "bfa64afa-8093-4108-d35e-70993e7e4e2a"
      },
      "execution_count": 1,
      "outputs": [
        {
          "output_type": "stream",
          "name": "stdout",
          "text": [
            "Sat Jan  1 19:15:49 2022       \n",
            "+-----------------------------------------------------------------------------+\n",
            "| NVIDIA-SMI 495.44       Driver Version: 460.32.03    CUDA Version: 11.2     |\n",
            "|-------------------------------+----------------------+----------------------+\n",
            "| GPU  Name        Persistence-M| Bus-Id        Disp.A | Volatile Uncorr. ECC |\n",
            "| Fan  Temp  Perf  Pwr:Usage/Cap|         Memory-Usage | GPU-Util  Compute M. |\n",
            "|                               |                      |               MIG M. |\n",
            "|===============================+======================+======================|\n",
            "|   0  Tesla K80           Off  | 00000000:00:04.0 Off |                    0 |\n",
            "| N/A   44C    P8    30W / 149W |      0MiB / 11441MiB |      0%      Default |\n",
            "|                               |                      |                  N/A |\n",
            "+-------------------------------+----------------------+----------------------+\n",
            "                                                                               \n",
            "+-----------------------------------------------------------------------------+\n",
            "| Processes:                                                                  |\n",
            "|  GPU   GI   CI        PID   Type   Process name                  GPU Memory |\n",
            "|        ID   ID                                                   Usage      |\n",
            "|=============================================================================|\n",
            "|  No running processes found                                                 |\n",
            "+-----------------------------------------------------------------------------+\n"
          ]
        }
      ]
    },
    {
      "cell_type": "code",
      "source": [
        "print(len(train_batches))\n",
        "print(len(valid_batches))\n",
        "\n",
        "STEP_SIZE_TRAIN=train_batches.n//train_batches.batch_size\n",
        "STEP_SIZE_VALID=valid_batches.n//valid_batches.batch_size\n",
        "\n",
        "result=model.fit_generator(train_batches,\n",
        "                         steps_per_epoch =STEP_SIZE_TRAIN,\n",
        "                         validation_data = valid_batches,\n",
        "                         validation_steps = STEP_SIZE_VALID,\n",
        "                         epochs= NUM_EPOCHS,                        \n",
        "                       )\n"
      ],
      "metadata": {
        "colab": {
          "base_uri": "https://localhost:8080/"
        },
        "id": "2Jrezljw1sdi",
        "outputId": "be582d4f-930f-4103-d134-bae363ff5e2f"
      },
      "execution_count": 73,
      "outputs": [
        {
          "output_type": "stream",
          "name": "stdout",
          "text": [
            "16\n",
            "4\n"
          ]
        },
        {
          "output_type": "stream",
          "name": "stderr",
          "text": [
            "/usr/local/lib/python3.7/dist-packages/ipykernel_launcher.py:11: UserWarning: `Model.fit_generator` is deprecated and will be removed in a future version. Please use `Model.fit`, which supports generators.\n",
            "  # This is added back by InteractiveShellApp.init_path()\n",
            "/usr/local/lib/python3.7/dist-packages/keras_preprocessing/image/image_data_generator.py:720: UserWarning: This ImageDataGenerator specifies `featurewise_center`, but it hasn't been fit on any training data. Fit it first by calling `.fit(numpy_data)`.\n",
            "  warnings.warn('This ImageDataGenerator specifies '\n",
            "/usr/local/lib/python3.7/dist-packages/keras_preprocessing/image/image_data_generator.py:739: UserWarning: This ImageDataGenerator specifies `zca_whitening`, but it hasn't been fit on any training data. Fit it first by calling `.fit(numpy_data)`.\n",
            "  warnings.warn('This ImageDataGenerator specifies '\n"
          ]
        },
        {
          "output_type": "stream",
          "name": "stdout",
          "text": [
            "Epoch 1/100\n",
            "16/16 [==============================] - 7s 393ms/step - loss: 1.6710 - acc: 0.4875 - val_loss: 0.9419 - val_acc: 0.5500\n",
            "Epoch 2/100\n",
            "16/16 [==============================] - 6s 364ms/step - loss: 0.8730 - acc: 0.6187 - val_loss: 0.7245 - val_acc: 0.6000\n",
            "Epoch 3/100\n",
            "16/16 [==============================] - 6s 361ms/step - loss: 0.8373 - acc: 0.6062 - val_loss: 0.5499 - val_acc: 0.7500\n",
            "Epoch 4/100\n",
            "16/16 [==============================] - 6s 363ms/step - loss: 0.5973 - acc: 0.7250 - val_loss: 0.5569 - val_acc: 0.7500\n",
            "Epoch 5/100\n",
            "16/16 [==============================] - 6s 363ms/step - loss: 0.5724 - acc: 0.7563 - val_loss: 0.4938 - val_acc: 0.8000\n",
            "Epoch 6/100\n",
            "16/16 [==============================] - 6s 351ms/step - loss: 0.4327 - acc: 0.8188 - val_loss: 0.5084 - val_acc: 0.7750\n",
            "Epoch 7/100\n",
            "16/16 [==============================] - 6s 353ms/step - loss: 0.4531 - acc: 0.8500 - val_loss: 0.5455 - val_acc: 0.6750\n",
            "Epoch 8/100\n",
            "16/16 [==============================] - 6s 360ms/step - loss: 0.4794 - acc: 0.7750 - val_loss: 0.4193 - val_acc: 0.7750\n",
            "Epoch 9/100\n",
            "16/16 [==============================] - 6s 345ms/step - loss: 0.5031 - acc: 0.8188 - val_loss: 0.4142 - val_acc: 0.8500\n",
            "Epoch 10/100\n",
            "16/16 [==============================] - 6s 352ms/step - loss: 0.5826 - acc: 0.7875 - val_loss: 0.6273 - val_acc: 0.7250\n",
            "Epoch 11/100\n",
            "16/16 [==============================] - 6s 357ms/step - loss: 0.4103 - acc: 0.8438 - val_loss: 0.4439 - val_acc: 0.8000\n",
            "Epoch 12/100\n",
            "16/16 [==============================] - 5s 346ms/step - loss: 0.4311 - acc: 0.8625 - val_loss: 0.8350 - val_acc: 0.6750\n",
            "Epoch 13/100\n",
            "16/16 [==============================] - 6s 341ms/step - loss: 0.3138 - acc: 0.9187 - val_loss: 0.5660 - val_acc: 0.7000\n",
            "Epoch 14/100\n",
            "16/16 [==============================] - 6s 350ms/step - loss: 0.2817 - acc: 0.9062 - val_loss: 0.5030 - val_acc: 0.7500\n",
            "Epoch 15/100\n",
            "16/16 [==============================] - 6s 363ms/step - loss: 0.2499 - acc: 0.8875 - val_loss: 0.3605 - val_acc: 0.8250\n",
            "Epoch 16/100\n",
            "16/16 [==============================] - 6s 360ms/step - loss: 0.3117 - acc: 0.8875 - val_loss: 0.3901 - val_acc: 0.8250\n",
            "Epoch 17/100\n",
            "16/16 [==============================] - 6s 368ms/step - loss: 0.4573 - acc: 0.8250 - val_loss: 0.3212 - val_acc: 0.8250\n",
            "Epoch 18/100\n",
            "16/16 [==============================] - 6s 363ms/step - loss: 0.3782 - acc: 0.8438 - val_loss: 0.3579 - val_acc: 0.8500\n",
            "Epoch 19/100\n",
            "16/16 [==============================] - 6s 351ms/step - loss: 0.3247 - acc: 0.8562 - val_loss: 0.3148 - val_acc: 0.8750\n",
            "Epoch 20/100\n",
            "16/16 [==============================] - 6s 368ms/step - loss: 0.3370 - acc: 0.8687 - val_loss: 0.4334 - val_acc: 0.8500\n",
            "Epoch 21/100\n",
            "16/16 [==============================] - 6s 360ms/step - loss: 0.3070 - acc: 0.8687 - val_loss: 0.4443 - val_acc: 0.8250\n",
            "Epoch 22/100\n",
            "16/16 [==============================] - 6s 352ms/step - loss: 0.2558 - acc: 0.9187 - val_loss: 0.6151 - val_acc: 0.7500\n",
            "Epoch 23/100\n",
            "16/16 [==============================] - 6s 367ms/step - loss: 0.3778 - acc: 0.8500 - val_loss: 0.6164 - val_acc: 0.7750\n",
            "Epoch 24/100\n",
            "16/16 [==============================] - 6s 357ms/step - loss: 0.3401 - acc: 0.8938 - val_loss: 0.2621 - val_acc: 0.9000\n",
            "Epoch 25/100\n",
            "16/16 [==============================] - 6s 367ms/step - loss: 0.2706 - acc: 0.9125 - val_loss: 0.6422 - val_acc: 0.7500\n",
            "Epoch 26/100\n",
            "16/16 [==============================] - 6s 368ms/step - loss: 0.3898 - acc: 0.8500 - val_loss: 0.5655 - val_acc: 0.7750\n",
            "Epoch 27/100\n",
            "16/16 [==============================] - 6s 367ms/step - loss: 0.2851 - acc: 0.8938 - val_loss: 0.4908 - val_acc: 0.7750\n",
            "Epoch 28/100\n",
            "16/16 [==============================] - 6s 378ms/step - loss: 0.3698 - acc: 0.8438 - val_loss: 0.3791 - val_acc: 0.8250\n",
            "Epoch 29/100\n",
            "16/16 [==============================] - 6s 375ms/step - loss: 0.2121 - acc: 0.9250 - val_loss: 0.4912 - val_acc: 0.8000\n",
            "Epoch 30/100\n",
            "16/16 [==============================] - 6s 391ms/step - loss: 0.3338 - acc: 0.8750 - val_loss: 0.3444 - val_acc: 0.8750\n",
            "Epoch 31/100\n",
            "16/16 [==============================] - 6s 381ms/step - loss: 0.4005 - acc: 0.8313 - val_loss: 0.6355 - val_acc: 0.7750\n",
            "Epoch 32/100\n",
            "16/16 [==============================] - 6s 378ms/step - loss: 0.2423 - acc: 0.8938 - val_loss: 0.3880 - val_acc: 0.8250\n",
            "Epoch 33/100\n",
            "16/16 [==============================] - 6s 373ms/step - loss: 0.3395 - acc: 0.8562 - val_loss: 0.5693 - val_acc: 0.8000\n",
            "Epoch 34/100\n",
            "16/16 [==============================] - 6s 383ms/step - loss: 0.3176 - acc: 0.8938 - val_loss: 0.2348 - val_acc: 0.9250\n",
            "Epoch 35/100\n",
            "16/16 [==============================] - 6s 364ms/step - loss: 0.2437 - acc: 0.9187 - val_loss: 0.2733 - val_acc: 0.9000\n",
            "Epoch 36/100\n",
            "16/16 [==============================] - 6s 379ms/step - loss: 0.2748 - acc: 0.8813 - val_loss: 0.2269 - val_acc: 0.9250\n",
            "Epoch 37/100\n",
            "16/16 [==============================] - 6s 382ms/step - loss: 0.3322 - acc: 0.8750 - val_loss: 0.3660 - val_acc: 0.8750\n",
            "Epoch 38/100\n",
            "16/16 [==============================] - 6s 385ms/step - loss: 0.2309 - acc: 0.9062 - val_loss: 0.4157 - val_acc: 0.8250\n",
            "Epoch 39/100\n",
            "16/16 [==============================] - 6s 379ms/step - loss: 0.2952 - acc: 0.9000 - val_loss: 0.6492 - val_acc: 0.7750\n",
            "Epoch 40/100\n",
            "16/16 [==============================] - 6s 362ms/step - loss: 0.2527 - acc: 0.9250 - val_loss: 0.6107 - val_acc: 0.7250\n",
            "Epoch 41/100\n",
            "16/16 [==============================] - 6s 374ms/step - loss: 0.2909 - acc: 0.9000 - val_loss: 0.4739 - val_acc: 0.7750\n",
            "Epoch 42/100\n",
            "16/16 [==============================] - 6s 364ms/step - loss: 0.2582 - acc: 0.8938 - val_loss: 0.3348 - val_acc: 0.8750\n",
            "Epoch 43/100\n",
            "16/16 [==============================] - 6s 375ms/step - loss: 0.2595 - acc: 0.8687 - val_loss: 0.2949 - val_acc: 0.8750\n",
            "Epoch 44/100\n",
            "16/16 [==============================] - 6s 373ms/step - loss: 0.1877 - acc: 0.9250 - val_loss: 0.2814 - val_acc: 0.8000\n",
            "Epoch 45/100\n",
            "16/16 [==============================] - 6s 370ms/step - loss: 0.1708 - acc: 0.9500 - val_loss: 0.3200 - val_acc: 0.8500\n",
            "Epoch 46/100\n",
            "16/16 [==============================] - 6s 378ms/step - loss: 0.1762 - acc: 0.9312 - val_loss: 0.2890 - val_acc: 0.9000\n",
            "Epoch 47/100\n",
            "16/16 [==============================] - 6s 383ms/step - loss: 0.2436 - acc: 0.9000 - val_loss: 0.2307 - val_acc: 0.8750\n",
            "Epoch 48/100\n",
            "16/16 [==============================] - 6s 387ms/step - loss: 0.3000 - acc: 0.8875 - val_loss: 0.4548 - val_acc: 0.8250\n",
            "Epoch 49/100\n",
            "16/16 [==============================] - 6s 371ms/step - loss: 0.2351 - acc: 0.9062 - val_loss: 0.8992 - val_acc: 0.6750\n",
            "Epoch 50/100\n",
            "16/16 [==============================] - 6s 369ms/step - loss: 0.2425 - acc: 0.9250 - val_loss: 0.3634 - val_acc: 0.8500\n",
            "Epoch 51/100\n",
            "16/16 [==============================] - 6s 366ms/step - loss: 0.2123 - acc: 0.9125 - val_loss: 0.4764 - val_acc: 0.8750\n",
            "Epoch 52/100\n",
            "16/16 [==============================] - 6s 359ms/step - loss: 0.2531 - acc: 0.9187 - val_loss: 0.5716 - val_acc: 0.8250\n",
            "Epoch 53/100\n",
            "16/16 [==============================] - 6s 361ms/step - loss: 0.2696 - acc: 0.9250 - val_loss: 0.5846 - val_acc: 0.8500\n",
            "Epoch 54/100\n",
            "16/16 [==============================] - 6s 373ms/step - loss: 0.2613 - acc: 0.9187 - val_loss: 0.4255 - val_acc: 0.8500\n",
            "Epoch 55/100\n",
            "16/16 [==============================] - 6s 369ms/step - loss: 0.2371 - acc: 0.8875 - val_loss: 0.5220 - val_acc: 0.7750\n",
            "Epoch 56/100\n",
            "16/16 [==============================] - 6s 372ms/step - loss: 0.2171 - acc: 0.9187 - val_loss: 0.4198 - val_acc: 0.8250\n",
            "Epoch 57/100\n",
            "16/16 [==============================] - 6s 381ms/step - loss: 0.3740 - acc: 0.8875 - val_loss: 0.3942 - val_acc: 0.8750\n",
            "Epoch 58/100\n",
            "16/16 [==============================] - 6s 360ms/step - loss: 0.2191 - acc: 0.9125 - val_loss: 0.2377 - val_acc: 0.9250\n",
            "Epoch 59/100\n",
            "16/16 [==============================] - 6s 367ms/step - loss: 0.2135 - acc: 0.9125 - val_loss: 0.6241 - val_acc: 0.8000\n",
            "Epoch 60/100\n",
            "16/16 [==============================] - 6s 369ms/step - loss: 0.2337 - acc: 0.8938 - val_loss: 0.4166 - val_acc: 0.8500\n",
            "Epoch 61/100\n",
            "16/16 [==============================] - 6s 379ms/step - loss: 0.2302 - acc: 0.9125 - val_loss: 0.4956 - val_acc: 0.8000\n",
            "Epoch 62/100\n",
            "16/16 [==============================] - 6s 346ms/step - loss: 0.2179 - acc: 0.9125 - val_loss: 0.2412 - val_acc: 0.9250\n",
            "Epoch 63/100\n",
            "16/16 [==============================] - 6s 374ms/step - loss: 0.2067 - acc: 0.9125 - val_loss: 0.4222 - val_acc: 0.8750\n",
            "Epoch 64/100\n",
            "16/16 [==============================] - 6s 368ms/step - loss: 0.2325 - acc: 0.9062 - val_loss: 0.5648 - val_acc: 0.8500\n",
            "Epoch 65/100\n",
            "16/16 [==============================] - 6s 366ms/step - loss: 0.2456 - acc: 0.9062 - val_loss: 0.4688 - val_acc: 0.8250\n",
            "Epoch 66/100\n",
            "16/16 [==============================] - 6s 369ms/step - loss: 0.3154 - acc: 0.8875 - val_loss: 0.3198 - val_acc: 0.9250\n",
            "Epoch 67/100\n",
            "16/16 [==============================] - 6s 379ms/step - loss: 0.2022 - acc: 0.9250 - val_loss: 0.4531 - val_acc: 0.8750\n",
            "Epoch 68/100\n",
            "16/16 [==============================] - 6s 375ms/step - loss: 0.2446 - acc: 0.9062 - val_loss: 0.5942 - val_acc: 0.8750\n",
            "Epoch 69/100\n",
            "16/16 [==============================] - 6s 378ms/step - loss: 0.2190 - acc: 0.9375 - val_loss: 0.3482 - val_acc: 0.8500\n",
            "Epoch 70/100\n",
            "16/16 [==============================] - 6s 377ms/step - loss: 0.2383 - acc: 0.9250 - val_loss: 0.6127 - val_acc: 0.8000\n",
            "Epoch 71/100\n",
            "16/16 [==============================] - 6s 374ms/step - loss: 0.2354 - acc: 0.8938 - val_loss: 0.3962 - val_acc: 0.8500\n",
            "Epoch 72/100\n",
            "16/16 [==============================] - 6s 374ms/step - loss: 0.1566 - acc: 0.9500 - val_loss: 0.3082 - val_acc: 0.9000\n",
            "Epoch 73/100\n",
            "16/16 [==============================] - 6s 376ms/step - loss: 0.1669 - acc: 0.9312 - val_loss: 0.4562 - val_acc: 0.8000\n",
            "Epoch 74/100\n",
            "16/16 [==============================] - 6s 374ms/step - loss: 0.1473 - acc: 0.9312 - val_loss: 0.3802 - val_acc: 0.8250\n",
            "Epoch 75/100\n",
            "16/16 [==============================] - 6s 369ms/step - loss: 0.1303 - acc: 0.9688 - val_loss: 0.5672 - val_acc: 0.7250\n",
            "Epoch 76/100\n",
            "16/16 [==============================] - 6s 365ms/step - loss: 0.1939 - acc: 0.9250 - val_loss: 0.3037 - val_acc: 0.8500\n",
            "Epoch 77/100\n",
            "16/16 [==============================] - 6s 367ms/step - loss: 0.2773 - acc: 0.8813 - val_loss: 0.4166 - val_acc: 0.8500\n",
            "Epoch 78/100\n",
            "16/16 [==============================] - 6s 368ms/step - loss: 0.2907 - acc: 0.9000 - val_loss: 0.4160 - val_acc: 0.8250\n",
            "Epoch 79/100\n",
            "16/16 [==============================] - 6s 370ms/step - loss: 0.1958 - acc: 0.9125 - val_loss: 0.3238 - val_acc: 0.8750\n",
            "Epoch 80/100\n",
            "16/16 [==============================] - 6s 370ms/step - loss: 0.1562 - acc: 0.9187 - val_loss: 0.3970 - val_acc: 0.8500\n",
            "Epoch 81/100\n",
            "16/16 [==============================] - 6s 369ms/step - loss: 0.2891 - acc: 0.9125 - val_loss: 0.3696 - val_acc: 0.8500\n",
            "Epoch 82/100\n",
            "16/16 [==============================] - 6s 368ms/step - loss: 0.2088 - acc: 0.8875 - val_loss: 0.5208 - val_acc: 0.8750\n",
            "Epoch 83/100\n",
            "16/16 [==============================] - 6s 373ms/step - loss: 0.1751 - acc: 0.9375 - val_loss: 0.2793 - val_acc: 0.9000\n",
            "Epoch 84/100\n",
            "16/16 [==============================] - 6s 367ms/step - loss: 0.1736 - acc: 0.9125 - val_loss: 0.6558 - val_acc: 0.7750\n",
            "Epoch 85/100\n",
            "16/16 [==============================] - 6s 370ms/step - loss: 0.1795 - acc: 0.9312 - val_loss: 0.2348 - val_acc: 0.8250\n",
            "Epoch 86/100\n",
            "16/16 [==============================] - 6s 368ms/step - loss: 0.2228 - acc: 0.9187 - val_loss: 0.4563 - val_acc: 0.8750\n",
            "Epoch 87/100\n",
            "16/16 [==============================] - 6s 371ms/step - loss: 0.2276 - acc: 0.9187 - val_loss: 0.4627 - val_acc: 0.8500\n",
            "Epoch 88/100\n",
            "16/16 [==============================] - 6s 360ms/step - loss: 0.1631 - acc: 0.9375 - val_loss: 0.5285 - val_acc: 0.8500\n",
            "Epoch 89/100\n",
            "16/16 [==============================] - 6s 347ms/step - loss: 0.1412 - acc: 0.9500 - val_loss: 0.1637 - val_acc: 0.9250\n",
            "Epoch 90/100\n",
            "16/16 [==============================] - 6s 361ms/step - loss: 0.1787 - acc: 0.9250 - val_loss: 0.9201 - val_acc: 0.7750\n",
            "Epoch 91/100\n",
            "16/16 [==============================] - 6s 360ms/step - loss: 0.1889 - acc: 0.9187 - val_loss: 0.4112 - val_acc: 0.8500\n",
            "Epoch 92/100\n",
            "16/16 [==============================] - 6s 359ms/step - loss: 0.2624 - acc: 0.8687 - val_loss: 0.9230 - val_acc: 0.8000\n",
            "Epoch 93/100\n",
            "16/16 [==============================] - 6s 364ms/step - loss: 0.2238 - acc: 0.9000 - val_loss: 0.4719 - val_acc: 0.8000\n",
            "Epoch 94/100\n",
            "16/16 [==============================] - 6s 370ms/step - loss: 0.2137 - acc: 0.9187 - val_loss: 0.4648 - val_acc: 0.8000\n",
            "Epoch 95/100\n",
            "16/16 [==============================] - 6s 368ms/step - loss: 0.1723 - acc: 0.9375 - val_loss: 0.3384 - val_acc: 0.8750\n",
            "Epoch 96/100\n",
            "16/16 [==============================] - 6s 373ms/step - loss: 0.1403 - acc: 0.9375 - val_loss: 0.3459 - val_acc: 0.8250\n",
            "Epoch 97/100\n",
            "16/16 [==============================] - 6s 355ms/step - loss: 0.2003 - acc: 0.9062 - val_loss: 0.5650 - val_acc: 0.8000\n",
            "Epoch 98/100\n",
            "16/16 [==============================] - 6s 376ms/step - loss: 0.2431 - acc: 0.8938 - val_loss: 0.3331 - val_acc: 0.9000\n",
            "Epoch 99/100\n",
            "16/16 [==============================] - 6s 368ms/step - loss: 0.1922 - acc: 0.9125 - val_loss: 0.7611 - val_acc: 0.7750\n",
            "Epoch 100/100\n",
            "16/16 [==============================] - 6s 367ms/step - loss: 0.1752 - acc: 0.9187 - val_loss: 0.2808 - val_acc: 0.8750\n"
          ]
        }
      ]
    },
    {
      "cell_type": "code",
      "source": [
        "import matplotlib.pyplot as plt\n",
        "\n",
        "\n",
        "def plot_acc_loss(result, epochs):\n",
        "    acc = result.history['acc']\n",
        "    loss = result.history['loss']\n",
        "    val_acc = result.history['val_acc']\n",
        "    val_loss = result.history['val_loss']\n",
        "    plt.figure(figsize=(15, 5))\n",
        "    plt.subplot(121)\n",
        "    plt.plot(range(1,epochs), acc[1:], label='Train_acc')\n",
        "    plt.plot(range(1,epochs), val_acc[1:], label='Test_acc')\n",
        "    plt.title('Accuracy over ' + str(epochs) + ' Epochs', size=15)\n",
        "    plt.legend()\n",
        "    plt.grid(True)\n",
        "    plt.subplot(122)\n",
        "    plt.plot(range(1,epochs), loss[1:], label='Train_loss')\n",
        "    plt.plot(range(1,epochs), val_loss[1:], label='Test_loss')\n",
        "    plt.title('Loss over ' + str(epochs) + ' Epochs', size=15)\n",
        "    plt.legend()\n",
        "    plt.grid(True)\n",
        "    plt.show()\n",
        "    \n",
        "plot_acc_loss(result, 100)"
      ],
      "metadata": {
        "colab": {
          "base_uri": "https://localhost:8080/",
          "height": 337
        },
        "id": "DH14Ar90Jxo-",
        "outputId": "9404ceee-cfb0-4077-ca1b-56bae726ed8f"
      },
      "execution_count": 74,
      "outputs": [
        {
          "output_type": "display_data",
          "data": {
            "image/png": "[encoded data removed]",
            "text/plain": [
              "<Figure size 1080x360 with 2 Axes>"
            ]
          },
          "metadata": {
            "needs_background": "light"
          }
        }
      ]
    },
    {
      "cell_type": "code",
      "source": [
        "model.save('Covid_Multi.h5')"
      ],
      "metadata": {
        "id": "66uu5mdXPxGQ"
      },
      "execution_count": 76,
      "outputs": []
    },
    {
      "cell_type": "code",
      "source": [
        "test_datagen = ImageDataGenerator(rescale=1. / 255)\n",
        "\n",
        "eval_generator = test_datagen.flow_from_directory(\n",
        "        test_dir,target_size=IMAGE_SIZE,\n",
        "        batch_size=1,\n",
        "        shuffle=True,\n",
        "        seed=42,\n",
        "        \n",
        "        class_mode=\"categorical\")\n",
        "eval_generator.reset()  "
      ],
      "metadata": {
        "colab": {
          "base_uri": "https://localhost:8080/"
        },
        "id": "V7ANErYdP4Ff",
        "outputId": "e6462c61-5722-4d01-b956-4bf2b0f9b182"
      },
      "execution_count": 77,
      "outputs": [
        {
          "output_type": "stream",
          "name": "stdout",
          "text": [
            "Found 27 images belonging to 3 classes.\n"
          ]
        }
      ]
    },
    {
      "cell_type": "code",
      "source": [
        "eval_generator.reset()  \n",
        "x = model.evaluate_generator(eval_generator,\n",
        "                           steps = np.ceil(len(eval_generator) / BATCH_SIZE),\n",
        "                           use_multiprocessing = False,\n",
        "                           verbose = 1,\n",
        "                           workers=1\n",
        "                           )\n",
        "\n",
        "\n",
        "print('Test loss:' , x[0])\n",
        "print('Test accuracy:',x[1])"
      ],
      "metadata": {
        "colab": {
          "base_uri": "https://localhost:8080/"
        },
        "id": "D5-YE_3DP9zv",
        "outputId": "937bc369-7321-414a-d3bf-17dfd6e4bc9a"
      },
      "execution_count": 90,
      "outputs": [
        {
          "output_type": "stream",
          "name": "stderr",
          "text": [
            "/usr/local/lib/python3.7/dist-packages/ipykernel_launcher.py:6: UserWarning: `Model.evaluate_generator` is deprecated and will be removed in a future version. Please use `Model.evaluate`, which supports generators.\n",
            "  \n"
          ]
        },
        {
          "output_type": "stream",
          "name": "stdout",
          "text": [
            "3/3 [==============================] - 1s 27ms/step - loss: 0.1298 - acc: 1.0000\n",
            "Test loss: 0.12978394329547882\n",
            "Test accuracy: 1.0\n"
          ]
        }
      ]
    },
    {
      "cell_type": "code",
      "source": [
        "model.compile(loss='categorical_crossentropy',\n",
        "              \n",
        "              optimizer='adam',\n",
        "              metrics=['acc'])\n",
        "\n",
        "result=model.fit_generator(train_batches,\n",
        "                        steps_per_epoch =STEP_SIZE_TRAIN,\n",
        "                        validation_data = valid_batches,\n",
        "                        validation_steps = STEP_SIZE_VALID,\n",
        "                        epochs= 20,                        \n",
        "                       )"
      ],
      "metadata": {
        "colab": {
          "base_uri": "https://localhost:8080/"
        },
        "id": "ND2GyRWPQ4j3",
        "outputId": "145d08d6-fb6d-4bb3-9837-3634aa243c85"
      },
      "execution_count": 94,
      "outputs": [
        {
          "output_type": "stream",
          "name": "stderr",
          "text": [
            "/usr/local/lib/python3.7/dist-packages/ipykernel_launcher.py:10: UserWarning: `Model.fit_generator` is deprecated and will be removed in a future version. Please use `Model.fit`, which supports generators.\n",
            "  # Remove the CWD from sys.path while we load stuff.\n",
            "/usr/local/lib/python3.7/dist-packages/keras_preprocessing/image/image_data_generator.py:720: UserWarning: This ImageDataGenerator specifies `featurewise_center`, but it hasn't been fit on any training data. Fit it first by calling `.fit(numpy_data)`.\n",
            "  warnings.warn('This ImageDataGenerator specifies '\n",
            "/usr/local/lib/python3.7/dist-packages/keras_preprocessing/image/image_data_generator.py:739: UserWarning: This ImageDataGenerator specifies `zca_whitening`, but it hasn't been fit on any training data. Fit it first by calling `.fit(numpy_data)`.\n",
            "  warnings.warn('This ImageDataGenerator specifies '\n"
          ]
        },
        {
          "output_type": "stream",
          "name": "stdout",
          "text": [
            "Epoch 1/20\n",
            "16/16 [==============================] - 7s 393ms/step - loss: 0.3830 - acc: 0.8625 - val_loss: 1.0409 - val_acc: 0.7750\n",
            "Epoch 2/20\n",
            "16/16 [==============================] - 6s 350ms/step - loss: 0.2019 - acc: 0.9187 - val_loss: 0.1523 - val_acc: 0.9250\n",
            "Epoch 3/20\n",
            "16/16 [==============================] - 6s 355ms/step - loss: 0.1261 - acc: 0.9625 - val_loss: 0.2498 - val_acc: 0.9000\n",
            "Epoch 4/20\n",
            "16/16 [==============================] - 6s 366ms/step - loss: 0.1610 - acc: 0.9500 - val_loss: 0.5982 - val_acc: 0.8250\n",
            "Epoch 5/20\n",
            "16/16 [==============================] - 6s 366ms/step - loss: 0.1701 - acc: 0.9250 - val_loss: 0.3540 - val_acc: 0.8750\n",
            "Epoch 6/20\n",
            "16/16 [==============================] - 6s 365ms/step - loss: 0.1891 - acc: 0.9187 - val_loss: 0.5459 - val_acc: 0.8750\n",
            "Epoch 7/20\n",
            "16/16 [==============================] - 6s 367ms/step - loss: 0.2541 - acc: 0.8875 - val_loss: 0.5364 - val_acc: 0.8000\n",
            "Epoch 8/20\n",
            "16/16 [==============================] - 6s 370ms/step - loss: 0.1853 - acc: 0.9438 - val_loss: 0.2170 - val_acc: 0.9000\n",
            "Epoch 9/20\n",
            "16/16 [==============================] - 6s 364ms/step - loss: 0.1924 - acc: 0.9187 - val_loss: 0.5419 - val_acc: 0.8750\n",
            "Epoch 10/20\n",
            "16/16 [==============================] - 6s 364ms/step - loss: 0.2028 - acc: 0.9375 - val_loss: 0.5041 - val_acc: 0.8750\n",
            "Epoch 11/20\n",
            "16/16 [==============================] - 6s 359ms/step - loss: 0.2507 - acc: 0.9125 - val_loss: 0.2191 - val_acc: 0.9000\n",
            "Epoch 12/20\n",
            "16/16 [==============================] - 6s 360ms/step - loss: 0.2693 - acc: 0.9000 - val_loss: 0.4095 - val_acc: 0.8500\n",
            "Epoch 13/20\n",
            "16/16 [==============================] - 6s 366ms/step - loss: 0.1919 - acc: 0.9375 - val_loss: 0.4755 - val_acc: 0.9000\n",
            "Epoch 14/20\n",
            "16/16 [==============================] - 6s 366ms/step - loss: 0.2738 - acc: 0.9250 - val_loss: 0.5279 - val_acc: 0.8750\n",
            "Epoch 15/20\n",
            "16/16 [==============================] - 6s 368ms/step - loss: 0.2063 - acc: 0.9187 - val_loss: 0.8665 - val_acc: 0.7250\n",
            "Epoch 16/20\n",
            "16/16 [==============================] - 6s 364ms/step - loss: 0.2375 - acc: 0.9375 - val_loss: 0.4629 - val_acc: 0.9000\n",
            "Epoch 17/20\n",
            "16/16 [==============================] - 6s 351ms/step - loss: 0.2781 - acc: 0.8813 - val_loss: 0.5584 - val_acc: 0.9000\n",
            "Epoch 18/20\n",
            "16/16 [==============================] - 6s 363ms/step - loss: 0.2132 - acc: 0.9187 - val_loss: 0.3889 - val_acc: 0.8500\n",
            "Epoch 19/20\n",
            "16/16 [==============================] - 6s 350ms/step - loss: 0.3202 - acc: 0.8750 - val_loss: 0.4295 - val_acc: 0.8250\n",
            "Epoch 20/20\n",
            "16/16 [==============================] - 6s 364ms/step - loss: 0.2812 - acc: 0.9000 - val_loss: 0.3660 - val_acc: 0.8750\n"
          ]
        }
      ]
    },
    {
      "cell_type": "code",
      "source": [
        "eval_generator.reset()  \n",
        "x = model.evaluate_generator(eval_generator,\n",
        "                           steps = np.ceil(len(eval_generator) / BATCH_SIZE),\n",
        "                           use_multiprocessing = False,\n",
        "                           verbose = 1,\n",
        "                           workers=1\n",
        "                           )\n",
        "\n",
        "\n",
        "print('Test loss:' , x[0])\n",
        "print('Test accuracy:',x[1])"
      ],
      "metadata": {
        "colab": {
          "base_uri": "https://localhost:8080/"
        },
        "id": "4y2rUGcLSCbP",
        "outputId": "8cda0a6b-4dd0-4c65-ea51-9374e2db25b8"
      },
      "execution_count": 95,
      "outputs": [
        {
          "output_type": "stream",
          "name": "stderr",
          "text": [
            "/usr/local/lib/python3.7/dist-packages/ipykernel_launcher.py:6: UserWarning: `Model.evaluate_generator` is deprecated and will be removed in a future version. Please use `Model.evaluate`, which supports generators.\n",
            "  \n"
          ]
        },
        {
          "output_type": "stream",
          "name": "stdout",
          "text": [
            "3/3 [==============================] - 0s 52ms/step - loss: 0.0869 - acc: 1.0000\n",
            "Test loss: 0.0869305431842804\n",
            "Test accuracy: 1.0\n"
          ]
        }
      ]
    }
  ]
}